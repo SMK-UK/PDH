{
 "cells": [
  {
   "cell_type": "markdown",
   "metadata": {},
   "source": [
    "\n",
    "### PDH Fundamentals  \n",
    "\n",
    "        Sean Keenan, PhD Physics  \n",
    "        Quantum Memories Group, Heriot-Watt University, Edinburgh  \n",
    "        2024  "
   ]
  },
  {
   "cell_type": "code",
   "execution_count": 1,
   "metadata": {},
   "outputs": [],
   "source": [
    "import sys\n",
    "# Add the parent directory to the system path\n",
    "sys.path.insert(1, r\"C:\\Users\\keena\\Documents\\University\\python_scripts\")\n",
    "\n",
    "from Function_files.math_functions import zoom\n",
    "from PDH.functions import FP_characteristics\n",
    "import matplotlib.pyplot as mp\n",
    "import numpy as np\n",
    "\n",
    "fp = FP_characteristics()"
   ]
  },
  {
   "cell_type": "markdown",
   "metadata": {},
   "source": [
    "\n",
    "#### Cavity Basics\n",
    "\n",
    "- Set freqeuncy range\n",
    "- Define cavity parameters\n",
    "- Plot transmission and reflection spectra\n"
   ]
  },
  {
   "cell_type": "code",
   "execution_count": null,
   "metadata": {},
   "outputs": [],
   "source": [
    "# simple planar cavity with r_1 = r_2\n",
    "fp.r_1 = 0.6\n",
    "fp.r_2 = 0.6\n",
    "fp.length = 1\n",
    "print(round(fp.finesse, 2))\n",
    "\n",
    "fp.scale = 1/fp.fsr                                     # set scale to give x in fsr\n",
    "freqs = np.arange(-1.5*fp.fsr, 1.5*fp.fsr, fp.fsr/1e4)  # lets just plot over a few fsr\n",
    "fig_r, ax_r = fp.plot_reflected(freqs, lims=[])         # plot the reflection\n",
    "ax_r.set_xticks([-1, 0, 1])\n",
    "ax_r.set_xticklabels(['$-\\\\nu_{fsr}$', '0', '$\\\\nu_{fsr}$'])\n",
    "\n",
    "fig_t, ax_t = fp.plot_transmitted(freqs, lims=[])       # plot the transmission\n",
    "ax_t.set_xticks([-1, 0, 1])\n",
    "ax_t.set_xticklabels(['$-\\\\nu_{fsr}$', '0', '$\\\\nu_{fsr}$'])"
   ]
  },
  {
   "cell_type": "markdown",
   "metadata": {},
   "source": [
    "\n",
    "#### PDH Basics\n",
    "\n",
    "- Plot reflection co-efficient\n",
    "- plot error signal for a given detuning \n"
   ]
  },
  {
   "cell_type": "code",
   "execution_count": null,
   "metadata": {},
   "outputs": [],
   "source": [
    "# increase finesse for sharper error signal\n",
    "fp.r_1 = 0.98\n",
    "fp.r_2 = 0.98\n",
    "print(fp.finesse)\n",
    "\n",
    "fp.scale = 1E-6         # x axis in MHz\n",
    "fig_i, fig_p  = fp.plot_ref_coeff(freqs, lims=[-fp.fsr//10, fp.fsr//10])\n",
    "\n",
    "omega = 25E6            # set detuning of modulation\n",
    "fig_err, ax_err = fp.plot_error_sig(freqs, detune=omega, lims=[-omega*2, omega*2])\n",
    "ax_err.set_xticks([-omega*fp.scale, 0, omega*fp.scale])\n",
    "ax_err.set_xticklabels(['$-\\Omega$', '0', '$\\Omega$'])"
   ]
  }
 ],
 "metadata": {
  "kernelspec": {
   "display_name": ".fp_venv",
   "language": "python",
   "name": "python3"
  },
  "language_info": {
   "codemirror_mode": {
    "name": "ipython",
    "version": 3
   },
   "file_extension": ".py",
   "mimetype": "text/x-python",
   "name": "python",
   "nbconvert_exporter": "python",
   "pygments_lexer": "ipython3",
   "version": "3.11.1"
  }
 },
 "nbformat": 4,
 "nbformat_minor": 2
}
